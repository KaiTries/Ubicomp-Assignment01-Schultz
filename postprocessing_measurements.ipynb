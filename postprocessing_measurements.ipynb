{
 "cells": [
  {
   "cell_type": "markdown",
   "metadata": {
    "id": "lBZYplkA9qpb"
   },
   "source": [
    "Install Dependencies"
   ]
  },
  {
   "cell_type": "code",
   "execution_count": 1,
   "metadata": {
    "id": "GXaRLORZ2djH"
   },
   "outputs": [
    {
     "name": "stdout",
     "output_type": "stream",
     "text": [
      "Collecting rocketlogger\n",
      "  Downloading rocketlogger-2.1.2-py3-none-any.whl.metadata (3.8 kB)\n",
      "Collecting numpy<1.26,>=1.13 (from rocketlogger)\n",
      "  Downloading numpy-1.25.2.tar.gz (10.8 MB)\n",
      "\u001b[2K     \u001b[90m━━━━━━━━━━━━━━━━━━━━━━━━━━━━━━━━━━━━━━━━\u001b[0m \u001b[32m10.8/10.8 MB\u001b[0m \u001b[31m69.0 MB/s\u001b[0m eta \u001b[36m0:00:00\u001b[0m\n",
      "\u001b[?25h  Installing build dependencies ... \u001b[?25ldone\n",
      "\u001b[?25h  Getting requirements to build wheel ... \u001b[?25ldone\n",
      "\u001b[?25h\u001b[31mERROR: Exception:\n",
      "Traceback (most recent call last):\n",
      "  File \"/home/kai/github/Ubicomp-Assignment01-Schultz/.venv/lib/python3.12/site-packages/pip/_internal/cli/base_command.py\", line 105, in _run_wrapper\n",
      "    status = _inner_run()\n",
      "             ^^^^^^^^^^^^\n",
      "  File \"/home/kai/github/Ubicomp-Assignment01-Schultz/.venv/lib/python3.12/site-packages/pip/_internal/cli/base_command.py\", line 96, in _inner_run\n",
      "    return self.run(options, args)\n",
      "           ^^^^^^^^^^^^^^^^^^^^^^^\n",
      "  File \"/home/kai/github/Ubicomp-Assignment01-Schultz/.venv/lib/python3.12/site-packages/pip/_internal/cli/req_command.py\", line 67, in wrapper\n",
      "    return func(self, options, args)\n",
      "           ^^^^^^^^^^^^^^^^^^^^^^^^^\n",
      "  File \"/home/kai/github/Ubicomp-Assignment01-Schultz/.venv/lib/python3.12/site-packages/pip/_internal/commands/install.py\", line 379, in run\n",
      "    requirement_set = resolver.resolve(\n",
      "                      ^^^^^^^^^^^^^^^^^\n",
      "  File \"/home/kai/github/Ubicomp-Assignment01-Schultz/.venv/lib/python3.12/site-packages/pip/_internal/resolution/resolvelib/resolver.py\", line 95, in resolve\n",
      "    result = self._result = resolver.resolve(\n",
      "                            ^^^^^^^^^^^^^^^^^\n",
      "  File \"/home/kai/github/Ubicomp-Assignment01-Schultz/.venv/lib/python3.12/site-packages/pip/_vendor/resolvelib/resolvers.py\", line 546, in resolve\n",
      "    state = resolution.resolve(requirements, max_rounds=max_rounds)\n",
      "            ^^^^^^^^^^^^^^^^^^^^^^^^^^^^^^^^^^^^^^^^^^^^^^^^^^^^^^^\n",
      "  File \"/home/kai/github/Ubicomp-Assignment01-Schultz/.venv/lib/python3.12/site-packages/pip/_vendor/resolvelib/resolvers.py\", line 427, in resolve\n",
      "    failure_causes = self._attempt_to_pin_criterion(name)\n",
      "                     ^^^^^^^^^^^^^^^^^^^^^^^^^^^^^^^^^^^^\n",
      "  File \"/home/kai/github/Ubicomp-Assignment01-Schultz/.venv/lib/python3.12/site-packages/pip/_vendor/resolvelib/resolvers.py\", line 239, in _attempt_to_pin_criterion\n",
      "    criteria = self._get_updated_criteria(candidate)\n",
      "               ^^^^^^^^^^^^^^^^^^^^^^^^^^^^^^^^^^^^^\n",
      "  File \"/home/kai/github/Ubicomp-Assignment01-Schultz/.venv/lib/python3.12/site-packages/pip/_vendor/resolvelib/resolvers.py\", line 230, in _get_updated_criteria\n",
      "    self._add_to_criteria(criteria, requirement, parent=candidate)\n",
      "  File \"/home/kai/github/Ubicomp-Assignment01-Schultz/.venv/lib/python3.12/site-packages/pip/_vendor/resolvelib/resolvers.py\", line 173, in _add_to_criteria\n",
      "    if not criterion.candidates:\n",
      "           ^^^^^^^^^^^^^^^^^^^^\n",
      "  File \"/home/kai/github/Ubicomp-Assignment01-Schultz/.venv/lib/python3.12/site-packages/pip/_vendor/resolvelib/structs.py\", line 156, in __bool__\n",
      "    return bool(self._sequence)\n",
      "           ^^^^^^^^^^^^^^^^^^^^\n",
      "  File \"/home/kai/github/Ubicomp-Assignment01-Schultz/.venv/lib/python3.12/site-packages/pip/_internal/resolution/resolvelib/found_candidates.py\", line 174, in __bool__\n",
      "    return any(self)\n",
      "           ^^^^^^^^^\n",
      "  File \"/home/kai/github/Ubicomp-Assignment01-Schultz/.venv/lib/python3.12/site-packages/pip/_internal/resolution/resolvelib/found_candidates.py\", line 162, in <genexpr>\n",
      "    return (c for c in iterator if id(c) not in self._incompatible_ids)\n",
      "                       ^^^^^^^^\n",
      "  File \"/home/kai/github/Ubicomp-Assignment01-Schultz/.venv/lib/python3.12/site-packages/pip/_internal/resolution/resolvelib/found_candidates.py\", line 53, in _iter_built\n",
      "    candidate = func()\n",
      "                ^^^^^^\n",
      "  File \"/home/kai/github/Ubicomp-Assignment01-Schultz/.venv/lib/python3.12/site-packages/pip/_internal/resolution/resolvelib/factory.py\", line 186, in _make_candidate_from_link\n",
      "    base: Optional[BaseCandidate] = self._make_base_candidate_from_link(\n",
      "                                    ^^^^^^^^^^^^^^^^^^^^^^^^^^^^^^^^^^^^\n",
      "  File \"/home/kai/github/Ubicomp-Assignment01-Schultz/.venv/lib/python3.12/site-packages/pip/_internal/resolution/resolvelib/factory.py\", line 232, in _make_base_candidate_from_link\n",
      "    self._link_candidate_cache[link] = LinkCandidate(\n",
      "                                       ^^^^^^^^^^^^^^\n",
      "  File \"/home/kai/github/Ubicomp-Assignment01-Schultz/.venv/lib/python3.12/site-packages/pip/_internal/resolution/resolvelib/candidates.py\", line 303, in __init__\n",
      "    super().__init__(\n",
      "  File \"/home/kai/github/Ubicomp-Assignment01-Schultz/.venv/lib/python3.12/site-packages/pip/_internal/resolution/resolvelib/candidates.py\", line 158, in __init__\n",
      "    self.dist = self._prepare()\n",
      "                ^^^^^^^^^^^^^^^\n",
      "  File \"/home/kai/github/Ubicomp-Assignment01-Schultz/.venv/lib/python3.12/site-packages/pip/_internal/resolution/resolvelib/candidates.py\", line 235, in _prepare\n",
      "    dist = self._prepare_distribution()\n",
      "           ^^^^^^^^^^^^^^^^^^^^^^^^^^^^\n",
      "  File \"/home/kai/github/Ubicomp-Assignment01-Schultz/.venv/lib/python3.12/site-packages/pip/_internal/resolution/resolvelib/candidates.py\", line 314, in _prepare_distribution\n",
      "    return preparer.prepare_linked_requirement(self._ireq, parallel_builds=True)\n",
      "           ^^^^^^^^^^^^^^^^^^^^^^^^^^^^^^^^^^^^^^^^^^^^^^^^^^^^^^^^^^^^^^^^^^^^^\n",
      "  File \"/home/kai/github/Ubicomp-Assignment01-Schultz/.venv/lib/python3.12/site-packages/pip/_internal/operations/prepare.py\", line 527, in prepare_linked_requirement\n",
      "    return self._prepare_linked_requirement(req, parallel_builds)\n",
      "           ^^^^^^^^^^^^^^^^^^^^^^^^^^^^^^^^^^^^^^^^^^^^^^^^^^^^^^\n",
      "  File \"/home/kai/github/Ubicomp-Assignment01-Schultz/.venv/lib/python3.12/site-packages/pip/_internal/operations/prepare.py\", line 642, in _prepare_linked_requirement\n",
      "    dist = _get_prepared_distribution(\n",
      "           ^^^^^^^^^^^^^^^^^^^^^^^^^^^\n",
      "  File \"/home/kai/github/Ubicomp-Assignment01-Schultz/.venv/lib/python3.12/site-packages/pip/_internal/operations/prepare.py\", line 72, in _get_prepared_distribution\n",
      "    abstract_dist.prepare_distribution_metadata(\n",
      "  File \"/home/kai/github/Ubicomp-Assignment01-Schultz/.venv/lib/python3.12/site-packages/pip/_internal/distributions/sdist.py\", line 56, in prepare_distribution_metadata\n",
      "    self._install_build_reqs(finder)\n",
      "  File \"/home/kai/github/Ubicomp-Assignment01-Schultz/.venv/lib/python3.12/site-packages/pip/_internal/distributions/sdist.py\", line 126, in _install_build_reqs\n",
      "    build_reqs = self._get_build_requires_wheel()\n",
      "                 ^^^^^^^^^^^^^^^^^^^^^^^^^^^^^^^^\n",
      "  File \"/home/kai/github/Ubicomp-Assignment01-Schultz/.venv/lib/python3.12/site-packages/pip/_internal/distributions/sdist.py\", line 103, in _get_build_requires_wheel\n",
      "    return backend.get_requires_for_build_wheel()\n",
      "           ^^^^^^^^^^^^^^^^^^^^^^^^^^^^^^^^^^^^^^\n",
      "  File \"/home/kai/github/Ubicomp-Assignment01-Schultz/.venv/lib/python3.12/site-packages/pip/_internal/utils/misc.py\", line 706, in get_requires_for_build_wheel\n",
      "    return super().get_requires_for_build_wheel(config_settings=cs)\n",
      "           ^^^^^^^^^^^^^^^^^^^^^^^^^^^^^^^^^^^^^^^^^^^^^^^^^^^^^^^^\n",
      "  File \"/home/kai/github/Ubicomp-Assignment01-Schultz/.venv/lib/python3.12/site-packages/pip/_vendor/pyproject_hooks/_impl.py\", line 166, in get_requires_for_build_wheel\n",
      "    return self._call_hook('get_requires_for_build_wheel', {\n",
      "           ^^^^^^^^^^^^^^^^^^^^^^^^^^^^^^^^^^^^^^^^^^^^^^^^^\n",
      "  File \"/home/kai/github/Ubicomp-Assignment01-Schultz/.venv/lib/python3.12/site-packages/pip/_vendor/pyproject_hooks/_impl.py\", line 321, in _call_hook\n",
      "    raise BackendUnavailable(data.get('traceback', ''))\n",
      "pip._vendor.pyproject_hooks._impl.BackendUnavailable: Traceback (most recent call last):\n",
      "  File \"/home/kai/github/Ubicomp-Assignment01-Schultz/.venv/lib/python3.12/site-packages/pip/_vendor/pyproject_hooks/_in_process/_in_process.py\", line 77, in _build_backend\n",
      "    obj = import_module(mod_path)\n",
      "          ^^^^^^^^^^^^^^^^^^^^^^^\n",
      "  File \"/usr/lib/python3.12/importlib/__init__.py\", line 90, in import_module\n",
      "    return _bootstrap._gcd_import(name[level:], package, level)\n",
      "           ^^^^^^^^^^^^^^^^^^^^^^^^^^^^^^^^^^^^^^^^^^^^^^^^^^^^\n",
      "  File \"<frozen importlib._bootstrap>\", line 1387, in _gcd_import\n",
      "  File \"<frozen importlib._bootstrap>\", line 1360, in _find_and_load\n",
      "  File \"<frozen importlib._bootstrap>\", line 1310, in _find_and_load_unlocked\n",
      "  File \"<frozen importlib._bootstrap>\", line 488, in _call_with_frames_removed\n",
      "  File \"<frozen importlib._bootstrap>\", line 1387, in _gcd_import\n",
      "  File \"<frozen importlib._bootstrap>\", line 1360, in _find_and_load\n",
      "  File \"<frozen importlib._bootstrap>\", line 1331, in _find_and_load_unlocked\n",
      "  File \"<frozen importlib._bootstrap>\", line 935, in _load_unlocked\n",
      "  File \"<frozen importlib._bootstrap_external>\", line 995, in exec_module\n",
      "  File \"<frozen importlib._bootstrap>\", line 488, in _call_with_frames_removed\n",
      "  File \"/tmp/pip-build-env-bgrocend/overlay/lib/python3.12/site-packages/setuptools/__init__.py\", line 10, in <module>\n",
      "    import distutils.core\n",
      "ModuleNotFoundError: No module named 'distutils'\n",
      "\u001b[0m\u001b[31m\n",
      "\u001b[0mNote: you may need to restart the kernel to use updated packages.\n",
      "Collecting pandas\n",
      "  Downloading pandas-2.2.3-cp312-cp312-manylinux_2_17_x86_64.manylinux2014_x86_64.whl.metadata (89 kB)\n",
      "Collecting numpy>=1.26.0 (from pandas)\n",
      "  Downloading numpy-2.1.1-cp312-cp312-manylinux_2_17_x86_64.manylinux2014_x86_64.whl.metadata (60 kB)\n",
      "Requirement already satisfied: python-dateutil>=2.8.2 in ./.venv/lib/python3.12/site-packages (from pandas) (2.9.0.post0)\n",
      "Collecting pytz>=2020.1 (from pandas)\n",
      "  Downloading pytz-2024.2-py2.py3-none-any.whl.metadata (22 kB)\n",
      "Collecting tzdata>=2022.7 (from pandas)\n",
      "  Downloading tzdata-2024.2-py2.py3-none-any.whl.metadata (1.4 kB)\n",
      "Requirement already satisfied: six>=1.5 in ./.venv/lib/python3.12/site-packages (from python-dateutil>=2.8.2->pandas) (1.16.0)\n",
      "Downloading pandas-2.2.3-cp312-cp312-manylinux_2_17_x86_64.manylinux2014_x86_64.whl (12.7 MB)\n",
      "\u001b[2K   \u001b[90m━━━━━━━━━━━━━━━━━━━━━━━━━━━━━━━━━━━━━━━━\u001b[0m \u001b[32m12.7/12.7 MB\u001b[0m \u001b[31m48.8 MB/s\u001b[0m eta \u001b[36m0:00:00\u001b[0m \u001b[36m0:00:01\u001b[0m\n",
      "\u001b[?25hDownloading numpy-2.1.1-cp312-cp312-manylinux_2_17_x86_64.manylinux2014_x86_64.whl (16.0 MB)\n",
      "\u001b[2K   \u001b[90m━━━━━━━━━━━━━━━━━━━━━━━━━━━━━━━━━━━━━━━━\u001b[0m \u001b[32m16.0/16.0 MB\u001b[0m \u001b[31m87.3 MB/s\u001b[0m eta \u001b[36m0:00:00\u001b[0m\n",
      "\u001b[?25hDownloading pytz-2024.2-py2.py3-none-any.whl (508 kB)\n",
      "Downloading tzdata-2024.2-py2.py3-none-any.whl (346 kB)\n",
      "Installing collected packages: pytz, tzdata, numpy, pandas\n",
      "Successfully installed numpy-2.1.1 pandas-2.2.3 pytz-2024.2 tzdata-2024.2\n",
      "Note: you may need to restart the kernel to use updated packages.\n",
      "Collecting matplotlib\n",
      "  Downloading matplotlib-3.9.2-cp312-cp312-manylinux_2_17_x86_64.manylinux2014_x86_64.whl.metadata (11 kB)\n",
      "Collecting contourpy>=1.0.1 (from matplotlib)\n",
      "  Downloading contourpy-1.3.0-cp312-cp312-manylinux_2_17_x86_64.manylinux2014_x86_64.whl.metadata (5.4 kB)\n",
      "Collecting cycler>=0.10 (from matplotlib)\n",
      "  Downloading cycler-0.12.1-py3-none-any.whl.metadata (3.8 kB)\n",
      "Collecting fonttools>=4.22.0 (from matplotlib)\n",
      "  Downloading fonttools-4.54.0-cp312-cp312-manylinux_2_5_x86_64.manylinux1_x86_64.manylinux_2_17_x86_64.manylinux2014_x86_64.whl.metadata (163 kB)\n",
      "Collecting kiwisolver>=1.3.1 (from matplotlib)\n",
      "  Downloading kiwisolver-1.4.7-cp312-cp312-manylinux_2_17_x86_64.manylinux2014_x86_64.whl.metadata (6.3 kB)\n",
      "Requirement already satisfied: numpy>=1.23 in ./.venv/lib/python3.12/site-packages (from matplotlib) (2.1.1)\n",
      "Requirement already satisfied: packaging>=20.0 in ./.venv/lib/python3.12/site-packages (from matplotlib) (24.1)\n",
      "Collecting pillow>=8 (from matplotlib)\n",
      "  Downloading pillow-10.4.0-cp312-cp312-manylinux_2_28_x86_64.whl.metadata (9.2 kB)\n",
      "Collecting pyparsing>=2.3.1 (from matplotlib)\n",
      "  Downloading pyparsing-3.1.4-py3-none-any.whl.metadata (5.1 kB)\n",
      "Requirement already satisfied: python-dateutil>=2.7 in ./.venv/lib/python3.12/site-packages (from matplotlib) (2.9.0.post0)\n",
      "Requirement already satisfied: six>=1.5 in ./.venv/lib/python3.12/site-packages (from python-dateutil>=2.7->matplotlib) (1.16.0)\n",
      "Downloading matplotlib-3.9.2-cp312-cp312-manylinux_2_17_x86_64.manylinux2014_x86_64.whl (8.3 MB)\n",
      "\u001b[2K   \u001b[90m━━━━━━━━━━━━━━━━━━━━━━━━━━━━━━━━━━━━━━━━\u001b[0m \u001b[32m8.3/8.3 MB\u001b[0m \u001b[31m80.7 MB/s\u001b[0m eta \u001b[36m0:00:00\u001b[0m\n",
      "\u001b[?25hDownloading contourpy-1.3.0-cp312-cp312-manylinux_2_17_x86_64.manylinux2014_x86_64.whl (320 kB)\n",
      "Downloading cycler-0.12.1-py3-none-any.whl (8.3 kB)\n",
      "Downloading fonttools-4.54.0-cp312-cp312-manylinux_2_5_x86_64.manylinux1_x86_64.manylinux_2_17_x86_64.manylinux2014_x86_64.whl (4.9 MB)\n",
      "\u001b[2K   \u001b[90m━━━━━━━━━━━━━━━━━━━━━━━━━━━━━━━━━━━━━━━━\u001b[0m \u001b[32m4.9/4.9 MB\u001b[0m \u001b[31m79.9 MB/s\u001b[0m eta \u001b[36m0:00:00\u001b[0m\n",
      "\u001b[?25hDownloading kiwisolver-1.4.7-cp312-cp312-manylinux_2_17_x86_64.manylinux2014_x86_64.whl (1.5 MB)\n",
      "\u001b[2K   \u001b[90m━━━━━━━━━━━━━━━━━━━━━━━━━━━━━━━━━━━━━━━━\u001b[0m \u001b[32m1.5/1.5 MB\u001b[0m \u001b[31m56.4 MB/s\u001b[0m eta \u001b[36m0:00:00\u001b[0m\n",
      "\u001b[?25hDownloading pillow-10.4.0-cp312-cp312-manylinux_2_28_x86_64.whl (4.5 MB)\n",
      "\u001b[2K   \u001b[90m━━━━━━━━━━━━━━━━━━━━━━━━━━━━━━━━━━━━━━━━\u001b[0m \u001b[32m4.5/4.5 MB\u001b[0m \u001b[31m76.6 MB/s\u001b[0m eta \u001b[36m0:00:00\u001b[0m\n",
      "\u001b[?25hDownloading pyparsing-3.1.4-py3-none-any.whl (104 kB)\n",
      "Installing collected packages: pyparsing, pillow, kiwisolver, fonttools, cycler, contourpy, matplotlib\n",
      "Successfully installed contourpy-1.3.0 cycler-0.12.1 fonttools-4.54.0 kiwisolver-1.4.7 matplotlib-3.9.2 pillow-10.4.0 pyparsing-3.1.4\n",
      "Note: you may need to restart the kernel to use updated packages.\n"
     ]
    }
   ],
   "source": [
    "%pip install rocketlogger\n",
    "%pip install pandas\n",
    "%pip install matplotlib"
   ]
  },
  {
   "cell_type": "markdown",
   "metadata": {
    "id": "AuhZt_ux9xAp"
   },
   "source": [
    "Import dependencies and load data"
   ]
  },
  {
   "cell_type": "code",
   "execution_count": 2,
   "metadata": {
    "id": "OedSmwXb2Xj8"
   },
   "outputs": [
    {
     "ename": "ModuleNotFoundError",
     "evalue": "No module named 'rocketlogger'",
     "output_type": "error",
     "traceback": [
      "\u001b[0;31m---------------------------------------------------------------------------\u001b[0m",
      "\u001b[0;31mModuleNotFoundError\u001b[0m                       Traceback (most recent call last)",
      "Cell \u001b[0;32mIn[2], line 7\u001b[0m\n\u001b[1;32m      5\u001b[0m \u001b[38;5;28;01mimport\u001b[39;00m \u001b[38;5;21;01mos\u001b[39;00m\n\u001b[1;32m      6\u001b[0m \u001b[38;5;28;01mfrom\u001b[39;00m \u001b[38;5;21;01mnumpy\u001b[39;00m \u001b[38;5;28;01mimport\u001b[39;00m linalg \u001b[38;5;28;01mas\u001b[39;00m LA\n\u001b[0;32m----> 7\u001b[0m \u001b[38;5;28;01mfrom\u001b[39;00m \u001b[38;5;21;01mrocketlogger\u001b[39;00m\u001b[38;5;21;01m.\u001b[39;00m\u001b[38;5;21;01mdata\u001b[39;00m \u001b[38;5;28;01mimport\u001b[39;00m RocketLoggerData\n",
      "\u001b[0;31mModuleNotFoundError\u001b[0m: No module named 'rocketlogger'"
     ]
    }
   ],
   "source": [
    "import numpy as np\n",
    "import pandas as pd\n",
    "import matplotlib.pyplot as plt\n",
    "from matplotlib import rc\n",
    "import os\n",
    "from numpy import linalg as LA\n",
    "from rocketlogger.data import RocketLoggerData"
   ]
  },
  {
   "cell_type": "code",
   "execution_count": 15,
   "metadata": {
    "id": "mJS-xfaS23nJ"
   },
   "outputs": [],
   "source": [
    "# # Configuration\n",
    "# Export figure settings\n",
    "plt.rcParams['pdf.fonttype'] = 42\n",
    "plt.rcParams['ps.fonttype'] = 42\n",
    "plt.rcParams['ps.useafm'] = True\n",
    "\n",
    "# constants\n",
    "LPM_CURRENT_THRESHOLD = 150e-6 # ampere\n",
    "TRIM_START = 1.0 # seconds\n",
    "TRIM_END = 1.0 # seconds\n",
    "    \n",
    "# input folder\n",
    "input_folder = os.path.join('./')\n",
    "\n",
    "# input files -- update path \n",
    "measurement_file = 'data/Onboard-data.rld'\n",
    "# measurement_file = 'data/Offboard-data.rld'\n",
    "\n",
    "# Load data\n",
    "data = RocketLoggerData(os.path.join(input_folder, measurement_file))\n",
    "data = data.merge_channels(True)\n",
    "data_sample_rate = int(data._header['sample_rate'])\n",
    "data_comment = data.get_comment()"
   ]
  },
  {
   "cell_type": "code",
   "execution_count": 16,
   "metadata": {
    "id": "ilrw9cIJ3PZW"
   },
   "outputs": [
    {
     "name": "stdout",
     "output_type": "stream",
     "text": [
      "Average supply voltage:  0.78844591 mA \n"
     ]
    }
   ],
   "source": [
    "# RAW DATA\n",
    "I_app = data.get_data('I1').squeeze()[int(TRIM_START*data_sample_rate):-int(TRIM_END*data_sample_rate)]\n",
    "V_app = data.get_data('V1').squeeze()[int(TRIM_START*data_sample_rate):-int(TRIM_END*data_sample_rate)]\n",
    "app_active_window = data.get_data('DI1').squeeze()[int(TRIM_START*data_sample_rate):-int(TRIM_END*data_sample_rate)] > 0\n",
    "\n",
    "print(\"Average supply voltage:  {:1.8f} mA \".format(1000*np.mean(I_app)))"
   ]
  },
  {
   "cell_type": "markdown",
   "metadata": {
    "id": "fL1ZWUPy-f2T"
   },
   "source": [
    "Extract application states"
   ]
  },
  {
   "cell_type": "code",
   "execution_count": 17,
   "metadata": {
    "id": "3awYs_jm3XC7"
   },
   "outputs": [
    {
     "name": "stdout",
     "output_type": "stream",
     "text": [
      "Num. start signals recognized:  73\n",
      "Num. stop signals recognized:  73\n"
     ]
    }
   ],
   "source": [
    "# TIME\n",
    "t_app = data.get_time()[int(TRIM_START*data_sample_rate):-int(TRIM_END*data_sample_rate)]\n",
    "t_app = t_app - t_app[0]\n",
    "dt_app = np.hstack([np.diff(t_app), 0])\n",
    "\n",
    "# POWER \n",
    "P_app = 1 * V_app * I_app\n",
    "\n",
    "# Determine the start and end of task based on the digital signal\n",
    "app_start = np.diff(np.hstack([[0], app_active_window])) > 0\n",
    "app_start_index = np.nonzero(app_start)[0]\n",
    "num_start = len(app_start_index)\n",
    "# extract the end of button press\n",
    "app_end = np.diff(np.hstack([[0], app_active_window])) < 0\n",
    "app_end_index = np.nonzero(app_end)[0]\n",
    "num_end = len(app_end_index)\n",
    "\n",
    "print('Num. start signals recognized: ', num_start)\n",
    "print('Num. stop signals recognized: ', num_end)"
   ]
  },
  {
   "cell_type": "code",
   "execution_count": 21,
   "metadata": {
    "id": "ZDkvYzWk3bcL"
   },
   "outputs": [
    {
     "data": {
      "image/png": "[encoded data removed]",
      "text/plain": [
       "<Figure size 432x288 with 2 Axes>"
      ]
     },
     "metadata": {
      "needs_background": "light"
     },
     "output_type": "display_data"
    },
    {
     "data": {
      "image/png": "[encoded data removed]",
      "text/plain": [
       "<Figure size 432x288 with 1 Axes>"
      ]
     },
     "metadata": {
      "needs_background": "light"
     },
     "output_type": "display_data"
    }
   ],
   "source": [
    "# plot the power trace and the calculated app state\n",
    "fig, ax1 = plt.subplots()\n",
    "lns1 = ax1.plot(t_app,P_app, label='Power Trace', color=\"blue\")\n",
    "plt.xlabel('time [s]')\n",
    "plt.ylabel('Power [W]')\n",
    "plt.ylim(0,0.08)\n",
    "# second y axis\n",
    "ax2 = ax1.twinx()\n",
    "lns2 = ax2.plot(t_app,app_active_window, label='App state', color=\"orange\")\n",
    "ax2.set_ylim(0,1.5)\n",
    "ax2.set_ylabel('State')\n",
    "ax2.set_yticks([0, 1])\n",
    "ax2.set_yticklabels( [\"sleep\", \"active task\"])\n",
    "# add legends for both lines\n",
    "lns = lns1+lns2\n",
    "labs = [l.get_label() for l in lns]\n",
    "ax1.legend(lns, labs)\n",
    "plt.tight_layout()\n",
    "plt.savefig(measurement_file+\"power_overview.png\", bbox_inches=\"tight\")\n",
    "\n",
    "# # Plot the app start and app end \n",
    "# plt.figure()\n",
    "# plt.plot(t_app,app_start, label='Start')\n",
    "# plt.plot(t_app,app_end, label='End')\n",
    "# plt.xlabel('time [s]')\n",
    "# plt.ylabel('State')\n",
    "# plt.yticks([0, 1], [\"sleep\", \"active task\"])\n",
    "# plt.legend()\n",
    "# plt.tight_layout()\n",
    "# plt.savefig(\"state_overview.png\", bbox_inches=\"tight\")\n",
    "\n",
    "# Print one activation  in detail\n",
    "detail_range = range(190734,192092) # To be used with onboard file\n",
    "# detail_range = range(193734,195092)\n",
    "plt.figure()\n",
    "_ = plt.plot(1e3 * (t_app[detail_range] - t_app[detail_range].min()), 1e3 * P_app[detail_range], label='Power Trace') \n",
    "_ = plt.plot(1e3 * (t_app[detail_range] - t_app[detail_range].min()), 20 * app_start[detail_range], label='Power Trace') \n",
    "_ = plt.plot(1e3 * (t_app[detail_range] - t_app[detail_range].min()), 20 * app_end[detail_range], label='Power Trace') \n",
    "_ = plt.xlabel('time [ms]')\n",
    "_ = plt.ylabel('power [mW]')\n",
    "plt.tight_layout()\n",
    "plt.savefig(measurement_file+\"closeup.png\", bbox_inches=\"tight\")\n",
    "plt.show()"
   ]
  },
  {
   "cell_type": "code",
   "execution_count": null,
   "metadata": {},
   "outputs": [],
   "source": []
  },
  {
   "cell_type": "code",
   "execution_count": 19,
   "metadata": {
    "id": "ny6f1J-p3s6w"
   },
   "outputs": [
    {
     "name": "stdout",
     "output_type": "stream",
     "text": [
      "1th Active time: 0.0051 s\n",
      "2th Active time: 0.0053 s\n",
      "3th Active time: 0.0051 s\n",
      "4th Active time: 0.0053 s\n",
      "5th Active time: 0.0053 s\n",
      "6th Active time: 0.0053 s\n",
      "7th Active time: 0.0051 s\n",
      "8th Active time: 0.0053 s\n",
      "9th Active time: 0.0051 s\n",
      "10th Active time: 0.0051 s\n",
      "11th Active time: 0.0051 s\n",
      "12th Active time: 0.0051 s\n",
      "13th Active time: 0.0053 s\n",
      "14th Active time: 0.0053 s\n",
      "15th Active time: 0.0053 s\n",
      "16th Active time: 0.0053 s\n",
      "17th Active time: 0.0053 s\n",
      "18th Active time: 0.0053 s\n",
      "19th Active time: 0.0053 s\n",
      "20th Active time: 0.0053 s\n",
      "21th Active time: 0.0053 s\n",
      "22th Active time: 0.0053 s\n",
      "23th Active time: 0.0051 s\n",
      "24th Active time: 0.0053 s\n",
      "25th Active time: 0.0053 s\n",
      "26th Active time: 0.0051 s\n",
      "27th Active time: 0.0053 s\n",
      "28th Active time: 0.0053 s\n",
      "29th Active time: 0.0053 s\n",
      "30th Active time: 0.0053 s\n",
      "31th Active time: 0.0053 s\n",
      "32th Active time: 0.0053 s\n",
      "33th Active time: 0.0053 s\n",
      "34th Active time: 0.0051 s\n",
      "35th Active time: 0.0053 s\n",
      "36th Active time: 0.0051 s\n",
      "37th Active time: 0.0053 s\n",
      "38th Active time: 0.0053 s\n",
      "39th Active time: 0.0051 s\n",
      "40th Active time: 0.0053 s\n",
      "41th Active time: 0.0053 s\n",
      "42th Active time: 0.0053 s\n",
      "43th Active time: 0.0053 s\n",
      "44th Active time: 0.0053 s\n",
      "45th Active time: 0.0053 s\n",
      "46th Active time: 0.0053 s\n",
      "47th Active time: 0.0053 s\n",
      "48th Active time: 0.0053 s\n",
      "49th Active time: 0.0053 s\n",
      "50th Active time: 0.0053 s\n",
      "51th Active time: 0.0053 s\n",
      "52th Active time: 0.0051 s\n",
      "53th Active time: 0.0053 s\n",
      "54th Active time: 0.0053 s\n",
      "55th Active time: 0.0053 s\n",
      "56th Active time: 0.0053 s\n",
      "57th Active time: 0.0053 s\n",
      "58th Active time: 0.0053 s\n",
      "59th Active time: 0.0054 s\n",
      "60th Active time: 0.0051 s\n",
      "61th Active time: 0.0053 s\n",
      "62th Active time: 0.0053 s\n",
      "63th Active time: 0.0053 s\n",
      "64th Active time: 0.0053 s\n",
      "65th Active time: 0.0051 s\n",
      "66th Active time: 0.0053 s\n",
      "67th Active time: 0.0053 s\n",
      "68th Active time: 0.0053 s\n",
      "69th Active time: 0.0051 s\n",
      "70th Active time: 0.0053 s\n",
      "71th Active time: 0.0053 s\n",
      "72th Active time: 0.0053 s\n",
      "73th Active time: 0.0053 s\n"
     ]
    }
   ],
   "source": [
    "# calculate app active windows\n",
    "app_active = np.zeros_like(app_start, dtype=bool)\n",
    "app_active_index = np.zeros([num_start, 2], dtype=int)\n",
    "\n",
    "for t in range(num_start):\n",
    "    idx_start = app_start_index[t]\n",
    "    idx_end = app_end_index[t]\n",
    "\n",
    "    print(\"{}th Active time: {:1.4f} s\".format(t+1, t_app[idx_end]-t_app[idx_start]))"
   ]
  },
  {
   "cell_type": "markdown",
   "metadata": {
    "id": "lfrmP_l9-6dZ"
   },
   "source": [
    "Energy and time statistics"
   ]
  },
  {
   "cell_type": "code",
   "execution_count": null,
   "metadata": {
    "id": "5AIpEzgG3w-t"
   },
   "outputs": [],
   "source": [
    "# TODO: Calculate the energy consumed by each task\n"
   ]
  },
  {
   "cell_type": "code",
   "execution_count": null,
   "metadata": {
    "id": "Jvw3Cak34BGY"
   },
   "outputs": [],
   "source": [
    "# TODO: Calculate the execution time taken by each task"
   ]
  }
 ],
 "metadata": {
  "colab": {
   "collapsed_sections": [],
   "name": "postprocessing_ir_trace.ipynb",
   "provenance": []
  },
  "kernelspec": {
   "display_name": "Python 3",
   "language": "python",
   "name": "python3"
  },
  "language_info": {
   "codemirror_mode": {
    "name": "ipython",
    "version": 3
   },
   "file_extension": ".py",
   "mimetype": "text/x-python",
   "name": "python",
   "nbconvert_exporter": "python",
   "pygments_lexer": "ipython3",
   "version": "3.12.6"
  }
 },
 "nbformat": 4,
 "nbformat_minor": 1
}
